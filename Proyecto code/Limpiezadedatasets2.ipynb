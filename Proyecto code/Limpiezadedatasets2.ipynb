{
 "cells": [
  {
   "cell_type": "code",
   "execution_count": 216,
   "metadata": {},
   "outputs": [],
   "source": [
    "import pandas as pd\n",
    "import numpy as np"
   ]
  },
  {
   "cell_type": "code",
   "execution_count": 217,
   "metadata": {},
   "outputs": [],
   "source": [
    "# Cargamos el dataset\n",
    "DatosUao1 = pd.read_csv(r)\n",
    "DatosUao2 = pd.read_csv(r)\n",
    "DatosUao3 = pd.read_csv(r)"
   ]
  },
  {
   "cell_type": "code",
   "execution_count": 1,
   "metadata": {},
   "outputs": [],
   "source": [
    "DatosUao1.head(5)"
   ]
  },
  {
   "cell_type": "code",
   "execution_count": 2,
   "metadata": {},
   "outputs": [],
   "source": [
    "DatosUao1[\" Humedad (%)\"].replace(\"%\",\"\",regex=True,inplace=True)\n",
    "DatosUao1[\" Humedad (%)\"] = DatosUao1[\" Humedad (%)\"].astype(float)\n",
    "DatosUao1 [\" Humedad (%)\"] = DatosUao1[\" Humedad (%)\"].round(2)\n",
    "DatosUao1.head(5)\n"
   ]
  },
  {
   "cell_type": "code",
   "execution_count": 3,
   "metadata": {},
   "outputs": [],
   "source": [
    "DatosUao1[\" Temperatura (C)\"].replace(\"C\",\"\",regex=True,inplace=True)\n",
    "DatosUao1[\" Temperatura (C)\"] = DatosUao1[\" Temperatura (C)\"].astype(float)\n",
    "DatosUao1 [\" Temperatura (C)\"] = DatosUao1[\" Temperatura (C)\"].round(2)\n",
    "DatosUao1.head(5)"
   ]
  },
  {
   "cell_type": "code",
   "execution_count": 4,
   "metadata": {},
   "outputs": [],
   "source": [
    "DatosUao1 = DatosUao1.drop([\" Iluminacion\"], axis=1,)\n",
    "DatosUao1.head(5)"
   ]
  },
  {
   "cell_type": "code",
   "execution_count": 5,
   "metadata": {},
   "outputs": [],
   "source": [
    "def limpieza(df):\n",
    "    df.drop([\" Iluminacion\"], axis=1, inplace=True)\n",
    "    df[\" Humedad (%)\"].replace(\"%\",\"\",regex=True,inplace=True)\n",
    "    df[\" Humedad (%)\"] = df[\" Humedad (%)\"].astype(float)\n",
    "    df[\" Humedad (%)\"] = df[\" Humedad (%)\"].round(2)\n",
    "    df[\" Temperatura (C)\"].replace(\"C\",\"\",regex=True,inplace=True)\n",
    "    df[\" Temperatura (C)\"] = df[\" Temperatura (C)\"].astype(float)\n",
    "    df[\" Temperatura (C)\"] = df[\" Temperatura (C)\"].round(2)\n",
    "    \n",
    "    \n",
    "    \n"
   ]
  },
  {
   "cell_type": "code",
   "execution_count": 223,
   "metadata": {},
   "outputs": [],
   "source": [
    "limpieza(DatosUao2)\n",
    "limpieza(DatosUao3)\n",
    "\n"
   ]
  },
  {
   "cell_type": "code",
   "execution_count": 224,
   "metadata": {},
   "outputs": [
    {
     "data": {
      "text/html": [
       "<div>\n",
       "<style scoped>\n",
       "    .dataframe tbody tr th:only-of-type {\n",
       "        vertical-align: middle;\n",
       "    }\n",
       "\n",
       "    .dataframe tbody tr th {\n",
       "        vertical-align: top;\n",
       "    }\n",
       "\n",
       "    .dataframe thead th {\n",
       "        text-align: right;\n",
       "    }\n",
       "</style>\n",
       "<table border=\"1\" class=\"dataframe\">\n",
       "  <thead>\n",
       "    <tr style=\"text-align: right;\">\n",
       "      <th></th>\n",
       "      <th>Fecha y hora</th>\n",
       "      <th>Temperatura (C)</th>\n",
       "      <th>Humedad (%)</th>\n",
       "    </tr>\n",
       "  </thead>\n",
       "  <tbody>\n",
       "    <tr>\n",
       "      <th>0</th>\n",
       "      <td>23/10/2022 7:2</td>\n",
       "      <td>24.4</td>\n",
       "      <td>72.2</td>\n",
       "    </tr>\n",
       "    <tr>\n",
       "      <th>1</th>\n",
       "      <td>23/10/2022 7:2</td>\n",
       "      <td>24.5</td>\n",
       "      <td>72.4</td>\n",
       "    </tr>\n",
       "    <tr>\n",
       "      <th>2</th>\n",
       "      <td>23/10/2022 7:2</td>\n",
       "      <td>24.5</td>\n",
       "      <td>72.8</td>\n",
       "    </tr>\n",
       "    <tr>\n",
       "      <th>3</th>\n",
       "      <td>23/10/2022 7:3</td>\n",
       "      <td>24.5</td>\n",
       "      <td>74.2</td>\n",
       "    </tr>\n",
       "    <tr>\n",
       "      <th>4</th>\n",
       "      <td>23/10/2022 7:3</td>\n",
       "      <td>24.5</td>\n",
       "      <td>74.7</td>\n",
       "    </tr>\n",
       "  </tbody>\n",
       "</table>\n",
       "</div>"
      ],
      "text/plain": [
       "     Fecha y hora   Temperatura (C)   Humedad (%)\n",
       "0  23/10/2022 7:2              24.4          72.2\n",
       "1  23/10/2022 7:2              24.5          72.4\n",
       "2  23/10/2022 7:2              24.5          72.8\n",
       "3  23/10/2022 7:3              24.5          74.2\n",
       "4  23/10/2022 7:3              24.5          74.7"
      ]
     },
     "execution_count": 224,
     "metadata": {},
     "output_type": "execute_result"
    }
   ],
   "source": [
    "DatosUao2.head(5)"
   ]
  },
  {
   "cell_type": "code",
   "execution_count": 233,
   "metadata": {},
   "outputs": [],
   "source": [
    "DatosUao1.to_csv(r\"C:\\Users\\Billy\\Desktop\\Proyecto data\\DatosLimpios\\DatoUao1L.csv\")\n",
    "DatosUao2.to_csv(r\"C:\\Users\\Billy\\Desktop\\Proyecto data\\DatosLimpios\\DatoUao2L.csv\")\n",
    "DatosUao3.to_csv(r\"C:\\Users\\Billy\\Desktop\\Proyecto data\\DatosLimpios\\DatoUao3L.csv\")\n"
   ]
  },
  {
   "cell_type": "markdown",
   "metadata": {},
   "source": []
  }
 ],
 "metadata": {
  "kernelspec": {
   "display_name": "Python 3.10.8 64-bit (microsoft store)",
   "language": "python",
   "name": "python3"
  },
  "language_info": {
   "codemirror_mode": {
    "name": "ipython",
    "version": 3
   },
   "file_extension": ".py",
   "mimetype": "text/x-python",
   "name": "python",
   "nbconvert_exporter": "python",
   "pygments_lexer": "ipython3",
   "version": "3.10.8"
  },
  "orig_nbformat": 4,
  "vscode": {
   "interpreter": {
    "hash": "b1c6e15540435369e3c265c6e38f97a14dd004376cd76a7d8eb536d2ea7cb935"
   }
  }
 },
 "nbformat": 4,
 "nbformat_minor": 2
}
